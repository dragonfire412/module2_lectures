{
  "nbformat": 4,
  "nbformat_minor": 0,
  "metadata": {
    "anaconda-cloud": {},
    "kernelspec": {
      "display_name": "Python 3",
      "language": "python",
      "name": "python3"
    },
    "language_info": {
      "codemirror_mode": {
        "name": "ipython",
        "version": 3
      },
      "file_extension": ".py",
      "mimetype": "text/x-python",
      "name": "python",
      "nbconvert_exporter": "python",
      "pygments_lexer": "ipython3",
      "version": "3.7.2"
    },
    "colab": {
      "name": "2_3_piping_with_comprehensions.ipynb",
      "provenance": [],
      "include_colab_link": true
    }
  },
  "cells": [
    {
      "cell_type": "markdown",
      "metadata": {
        "id": "view-in-github",
        "colab_type": "text"
      },
      "source": [
        "<a href=\"https://colab.research.google.com/github/dragonfire412/module2_lectures/blob/master/2_3_piping_with_comprehensions.ipynb\" target=\"_parent\"><img src=\"https://colab.research.google.com/assets/colab-badge.svg\" alt=\"Open In Colab\"/></a>"
      ]
    },
    {
      "cell_type": "markdown",
      "metadata": {
        "id": "Sb2ucQLogpyv",
        "colab_type": "text"
      },
      "source": [
        "# Piping and List Comprehensions\n",
        "\n",
        "## Objectives\n",
        "\n",
        "1. Identify and use the basic structures of combinind list comprehensions and piping\n",
        "2. Learn about composing list comprehension lambdas"
      ]
    },
    {
      "cell_type": "markdown",
      "metadata": {
        "collapsed": true,
        "id": "yUS7WJK7gpyw",
        "colab_type": "text"
      },
      "source": [
        "## List Comprehension\n",
        "\n",
        "* Expression for constructing list\n",
        "* Returns a new list\n",
        "* Reads like math\n",
        "    * Set builder notation"
      ]
    },
    {
      "cell_type": "code",
      "metadata": {
        "id": "msDBwTRTgpyy",
        "colab_type": "code",
        "colab": {},
        "outputId": "b9e43d94-88cd-426c-fd85-3e56af43e4fd"
      },
      "source": [
        "mylist = [1,2,3,4,5]\n",
        "yourlist = [item ** 2 for item in mylist]\n",
        "yourlist"
      ],
      "execution_count": null,
      "outputs": [
        {
          "output_type": "execute_result",
          "data": {
            "text/plain": [
              "[1, 4, 9, 16, 25]"
            ]
          },
          "metadata": {
            "tags": []
          },
          "execution_count": 1
        }
      ]
    },
    {
      "cell_type": "markdown",
      "metadata": {
        "id": "dTcCeDQBgpy3",
        "colab_type": "text"
      },
      "source": [
        "## Pipeable functions with comprehensions\n",
        "\n",
        "\n",
        "    \n",
        "<img src=\"https://github.com/dragonfire412/module2_lectures/blob/master/img/pipe_and_list_comp.png?raw=1\" width=600>"
      ]
    },
    {
      "cell_type": "markdown",
      "metadata": {
        "id": "6blSY9i9gpy4",
        "colab_type": "text"
      },
      "source": [
        "## Splitting and processing string\n",
        "\n",
        "* Use `split` to cut a string into a list of strings\n",
        "* Use a comprehension to process the list."
      ]
    },
    {
      "cell_type": "code",
      "metadata": {
        "id": "dxyM5YMrgpy4",
        "colab_type": "code",
        "colab": {
          "base_uri": "https://localhost:8080/",
          "height": 34
        },
        "outputId": "4d253fb8-894a-41f7-cb1f-12639129a702"
      },
      "source": [
        "quote = \"Don't judge each day by the harvest you reap but by the seeds that you plant.\"\n",
        "words = quote.split(\" \")\n",
        "lengths =  [len(word) for word in words]\n",
        "mean = sum(lengths)/len(lengths)\n",
        "mean"
      ],
      "execution_count": 3,
      "outputs": [
        {
          "output_type": "execute_result",
          "data": {
            "text/plain": [
              "3.875"
            ]
          },
          "metadata": {
            "tags": []
          },
          "execution_count": 3
        }
      ]
    },
    {
      "cell_type": "code",
      "metadata": {
        "id": "7xoxoCOPkxBU",
        "colab_type": "code",
        "colab": {
          "base_uri": "https://localhost:8080/",
          "height": 34
        },
        "outputId": "2b01cf6b-ebed-4e9c-dd9b-4b773f24c91c"
      },
      "source": [
        "import statistics\n",
        "statistics.mean([len(word) for word in quote.split(\" \")])"
      ],
      "execution_count": 5,
      "outputs": [
        {
          "output_type": "execute_result",
          "data": {
            "text/plain": [
              "3.875"
            ]
          },
          "metadata": {
            "tags": []
          },
          "execution_count": 5
        }
      ]
    },
    {
      "cell_type": "code",
      "metadata": {
        "id": "x-DlNaz6gpy8",
        "colab_type": "code",
        "colab": {
          "base_uri": "https://localhost:8080/",
          "height": 141
        },
        "outputId": "ce3e1d1a-1a1d-4831-f4ce-da3042a44975"
      },
      "source": [
        "!pip install composable\n",
        "from composable import pipeable"
      ],
      "execution_count": 1,
      "outputs": [
        {
          "output_type": "stream",
          "text": [
            "Collecting composable\n",
            "  Downloading https://files.pythonhosted.org/packages/09/e3/d39be68eedf95b03f9d39107809fed1f9f23bd35dfa875bc38abc815670c/composable-0.1.1-py3-none-any.whl\n",
            "Requirement already satisfied: toolz<0.11.0,>=0.10.0 in /usr/local/lib/python3.6/dist-packages (from composable) (0.10.0)\n",
            "Collecting python-forge<19.0,>=18.6\n",
            "  Downloading https://files.pythonhosted.org/packages/41/d6/e9af8e22d153ebbf584833c1c96d590046f522ae2a86978d4efe496b4aac/python_forge-18.6.0-py35-none-any.whl\n",
            "Installing collected packages: python-forge, composable\n",
            "Successfully installed composable-0.1.1 python-forge-18.6.0\n"
          ],
          "name": "stdout"
        }
      ]
    },
    {
      "cell_type": "code",
      "metadata": {
        "id": "kx_j7ccDgpy_",
        "colab_type": "code",
        "colab": {}
      },
      "source": [
        "split = pipeable(lambda sep, s: s.split(sep))\n",
        "word_lengths = pipeable(lambda L: [len(word) for word in L])\n",
        "mean = pipeable(lambda L: sum(L)/len(L))"
      ],
      "execution_count": 8,
      "outputs": []
    },
    {
      "cell_type": "code",
      "metadata": {
        "id": "z71iZYBfgpzD",
        "colab_type": "code",
        "colab": {},
        "outputId": "7d907bfc-8e4f-4664-97f5-d844d3d6958f"
      },
      "source": [
        "(quote\n",
        " >> split(\" \")\n",
        " >> word_lengths\n",
        " >> mean\n",
        ")"
      ],
      "execution_count": null,
      "outputs": [
        {
          "output_type": "execute_result",
          "data": {
            "text/plain": [
              "3.875"
            ]
          },
          "metadata": {
            "tags": []
          },
          "execution_count": 13
        }
      ]
    },
    {
      "cell_type": "markdown",
      "metadata": {
        "id": "gskxs0VRgpzG",
        "colab_type": "text"
      },
      "source": [
        "### <font color='red'> Exercise 1 </font>\n",
        "\n",
        "Use a pipe to take a quote, split it into words, and then grab the last two letter of each word.  **Hint:** Use the slice operation!  Package this process in a function called `first_two_char` and including appropriate doc string and text function."
      ]
    },
    {
      "cell_type": "code",
      "metadata": {
        "id": "pphA57kwgpzH",
        "colab_type": "code",
        "colab": {}
      },
      "source": [
        "last_two_char_of_each = pipeable(lambda L: [x[-2:] for x in L] )\n",
        "\n",
        "\n",
        "def last_two_char(s: str) -> list:\n",
        "  \"\"\"Returns last two characters of all words of a string.\n",
        "\n",
        "  Args:\n",
        "    s: A string with a space between the words\n",
        "\n",
        "  Returns:\n",
        "    A list of strings\n",
        "  \"\"\"\n",
        "  return (s\n",
        "          >> split(\" \")\n",
        "          >> last_two_char_of_each\n",
        "          )"
      ],
      "execution_count": 38,
      "outputs": []
    },
    {
      "cell_type": "code",
      "metadata": {
        "id": "fgIf6FM4ohHJ",
        "colab_type": "code",
        "colab": {}
      },
      "source": [
        "def test_last_two_char():\n",
        "  assert len(last_two_char(quote)) == len(quote.split()) # test no elements were dropped\n",
        "  assert last_two_char(\"\") == ['']\n",
        "  assert last_two_char(\"a\") == [\"a\"]\n",
        "  assert last_two_char(\"this is a test\") == [\"is\", \"is\", \"a\", \"st\"]\n",
        "\n",
        "test_last_two_char()"
      ],
      "execution_count": 24,
      "outputs": []
    },
    {
      "cell_type": "markdown",
      "metadata": {
        "id": "q7daTXiAgpzK",
        "colab_type": "text"
      },
      "source": [
        "### <font color='red'> Exercise 2 </font>\n",
        "\n",
        "Notice that period at the end of the sentence.  It is probably safest to remove punctuation like periods, questions marks, and exclamation points.  Add a step to the pipe to remove these characters."
      ]
    },
    {
      "cell_type": "code",
      "metadata": {
        "id": "5uuq32Rup1LI",
        "colab_type": "code",
        "colab": {}
      },
      "source": [
        "from string import punctuation\n",
        "import re\n",
        "\n",
        "strip_punctuation = pipeable(lambda s: re.sub(re.compile(rf\"[{re.escape(punctuation)}]\"), \"\", s))"
      ],
      "execution_count": 28,
      "outputs": []
    },
    {
      "cell_type": "code",
      "metadata": {
        "id": "jj_Q1gw7qeQg",
        "colab_type": "code",
        "colab": {}
      },
      "source": [
        "def last_two_char_cleaned(s: str) -> list:\n",
        "  \"\"\"Strips out any punctuation,\n",
        "      then returns last two characters for all words of a string.\n",
        "\n",
        "  Args:\n",
        "    s: A string with a space between the words\n",
        "\n",
        "  Returns:\n",
        "    A list of strings\n",
        "  \"\"\"\n",
        "  return (s\n",
        "          >> strip_punctuation\n",
        "          >> split(\" \")\n",
        "          >> last_two_char_of_each\n",
        "          )"
      ],
      "execution_count": 37,
      "outputs": []
    },
    {
      "cell_type": "code",
      "metadata": {
        "id": "zSdaWnsxp46Q",
        "colab_type": "code",
        "colab": {}
      },
      "source": [
        "def test_last_two_char_cleaned():\n",
        "  assert last_two_char_cleaned(\"\") == ['']\n",
        "  assert last_two_char_cleaned(\"&*\") == ['']\n",
        "  assert last_two_char_cleaned(\"t'*est stri&,ng\") == ['st', 'ng']\n",
        "\n",
        "test_last_two_char_cleaned()"
      ],
      "execution_count": 36,
      "outputs": []
    },
    {
      "cell_type": "markdown",
      "metadata": {
        "id": "2KKJAthigpzO",
        "colab_type": "text"
      },
      "source": [
        "## (Ab)Using tuples in sequence processing.\n",
        "\n",
        "* Sometimes it is useful to hold mulitple pieces of information at once.\n",
        "    * Example *Keep all of the even length words* needs both length and the words themselves.\n",
        "* In this case we will use a list of tuples to aid the computation."
      ]
    },
    {
      "cell_type": "markdown",
      "metadata": {
        "id": "13BFo60RgpzP",
        "colab_type": "text"
      },
      "source": [
        "## Example: Take a quote and only keep the even length word."
      ]
    },
    {
      "cell_type": "markdown",
      "metadata": {
        "id": "kqN7uAvBgpzP",
        "colab_type": "text"
      },
      "source": [
        "#### Step 1 -- Get both words and lengths"
      ]
    },
    {
      "cell_type": "code",
      "metadata": {
        "id": "lxKBgOYEgpzQ",
        "colab_type": "code",
        "colab": {}
      },
      "source": [
        "lengths_and_words = pipeable(lambda L: [(w, len(w)) for w in L ])\n",
        "take = pipeable(lambda num, L: L[:num])"
      ],
      "execution_count": null,
      "outputs": []
    },
    {
      "cell_type": "code",
      "metadata": {
        "id": "MfOwp3OOgpzS",
        "colab_type": "code",
        "colab": {},
        "outputId": "e4a807ea-900f-4047-d771-70099ed02926"
      },
      "source": [
        "(quote\n",
        " >> split(\" \")\n",
        " >> lengths_and_words\n",
        " >> take(2)\n",
        ")"
      ],
      "execution_count": null,
      "outputs": [
        {
          "output_type": "execute_result",
          "data": {
            "text/plain": [
              "[(\"Don't\", 5), ('judge', 5)]"
            ]
          },
          "metadata": {
            "tags": []
          },
          "execution_count": 25
        }
      ]
    },
    {
      "cell_type": "markdown",
      "metadata": {
        "id": "N7lF8wIGgpzW",
        "colab_type": "text"
      },
      "source": [
        "#### Step 2 -- Filter based on length"
      ]
    },
    {
      "cell_type": "code",
      "metadata": {
        "id": "_N62tbW-gpzX",
        "colab_type": "code",
        "colab": {}
      },
      "source": [
        "is_even = lambda num: num % 2 == 0\n",
        "keep_even_lengths = pipeable(lambda tups: [w for w, length in tups if is_even(length)])"
      ],
      "execution_count": null,
      "outputs": []
    },
    {
      "cell_type": "code",
      "metadata": {
        "id": "P4s2fwS-gpza",
        "colab_type": "code",
        "colab": {},
        "outputId": "cdb707cc-693b-4517-dcd4-111dbebf26db"
      },
      "source": [
        "(quote\n",
        " >> split(\" \")\n",
        " >> lengths_and_words\n",
        " >> keep_even_lengths\n",
        ")"
      ],
      "execution_count": null,
      "outputs": [
        {
          "output_type": "execute_result",
          "data": {
            "text/plain": [
              "['each', 'by', 'reap', 'by', 'that', 'plant.']"
            ]
          },
          "metadata": {
            "tags": []
          },
          "execution_count": 30
        }
      ]
    },
    {
      "cell_type": "markdown",
      "metadata": {
        "id": "WGV5QHplgpzd",
        "colab_type": "text"
      },
      "source": [
        "## <font color=\"red\"> TODO Add a image of what is happening here </font>"
      ]
    },
    {
      "cell_type": "markdown",
      "metadata": {
        "id": "3d5gBYR6gpze",
        "colab_type": "text"
      },
      "source": [
        "### <font color='red'> Exercise 3 </font>\n",
        "\n",
        "Use a pipe to take a quote, split it into words, and then keeps all words that have at least 4 characters.  **Hint:** Use the `lengths_and_words` function! Package this process in a function called `at_least_4_char` and including appropriate doc string and text function."
      ]
    },
    {
      "cell_type": "code",
      "metadata": {
        "id": "62Q321sEgpzf",
        "colab_type": "code",
        "colab": {}
      },
      "source": [
        "meets_min_length = pipeable(lambda length, L: [s for s in L if len(s) >= length])\n",
        "\n",
        "def at_least_4_char(s: str) -> list:\n",
        "  \"\"\"Returns all words from a string that are at least 4 characters long.\n",
        "\n",
        "  Args:\n",
        "    s: a space-delimited string\n",
        "  \n",
        "  Returns:\n",
        "    List of strings\n",
        "  \"\"\"\n",
        "  return (s\n",
        "          >> split(\" \")\n",
        "          >> meets_min_length(4)\n",
        "          )"
      ],
      "execution_count": 40,
      "outputs": []
    },
    {
      "cell_type": "code",
      "metadata": {
        "id": "F0A68mDTvnrG",
        "colab_type": "code",
        "colab": {}
      },
      "source": [
        "def test_at_least_4_char():\n",
        "  assert at_least_4_char(\"\") == []\n",
        "  assert at_least_4_char(\"this is a test string\") == [\"this\", \"test\", \"string\"]\n",
        "\n",
        "test_at_least_4_char()"
      ],
      "execution_count": 43,
      "outputs": []
    },
    {
      "cell_type": "markdown",
      "metadata": {
        "id": "2Yv3A667gpzh",
        "colab_type": "text"
      },
      "source": [
        "<h2> <font color=\"red\"> TODO Add a section on refactoring compositions of comprehensions </font>"
      ]
    }
  ]
}